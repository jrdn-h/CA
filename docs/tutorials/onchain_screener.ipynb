{
  "cells": [
    {
      "cell_type": "code",
      "execution_count": null,
      "metadata": {
        "vscode": {
          "languageId": "plaintext"
        }
      },
      "outputs": [],
      "source": [
        "# On-Chain Health Screener\n",
        "\n",
        "This tutorial demonstrates how to analyze blockchain fundamentals using TradingAgents' on-chain analytics powered by Glassnode integration.\n",
        "\n",
        "## Overview\n",
        "\n",
        "You'll learn how to:\n",
        "- Access real-time blockchain metrics\n",
        "- Analyze network health indicators\n",
        "- Evaluate market sentiment through on-chain data\n",
        "- Create comprehensive crypto health reports\n",
        "- Identify fundamental investment opportunities\n",
        "\n",
        "## Key Metrics Covered\n",
        "\n",
        "### Network Health\n",
        "- **Active Addresses** - User adoption trends\n",
        "- **Hash Rate** - Network security strength  \n",
        "- **Transaction Count** - Network usage levels\n",
        "\n",
        "### Market Intelligence\n",
        "- **Exchange Flows** - Institutional movements\n",
        "- **Whale Activity** - Large holder behavior\n",
        "- **HODL Patterns** - Long-term sentiment\n",
        "\n",
        "### Economic Indicators\n",
        "- **MVRV Ratio** - Market value vs realized value\n",
        "- **NVT Ratio** - Network value to transactions\n",
        "- **Realized Cap** - True market valuation\n"
      ]
    },
    {
      "cell_type": "code",
      "execution_count": null,
      "metadata": {},
      "outputs": [],
      "source": [
        "# Import required libraries\n",
        "import pandas as pd\n",
        "import numpy as np\n",
        "import matplotlib.pyplot as plt\n",
        "import json\n",
        "from datetime import datetime\n",
        "\n",
        "# TradingAgents imports\n",
        "from tradingagents.dataflows.interface import (\n",
        "    get_onchain_network_health,\n",
        "    get_onchain_market_indicators,\n",
        "    get_onchain_comprehensive_analysis,\n",
        "    get_metric_registry_data\n",
        ")\n",
        "\n",
        "print(\"🔗 TradingAgents On-Chain Analytics System\")\n",
        "print(\"📊 Powered by Glassnode & Multiple Data Providers\")\n",
        "print(\"✅ Ready to analyze blockchain fundamentals!\")\n"
      ]
    },
    {
      "cell_type": "code",
      "execution_count": null,
      "metadata": {},
      "outputs": [],
      "source": [
        "## Step 1: Network Health Analysis\n",
        "\n",
        "Let's start by analyzing Bitcoin's core network health metrics.\n"
      ]
    },
    {
      "cell_type": "code",
      "execution_count": null,
      "metadata": {},
      "outputs": [],
      "source": [
        "# Analyze Bitcoin network health\n",
        "print(\"🔍 Analyzing Bitcoin Network Health...\")\n",
        "print(\"=\" * 50)\n",
        "\n",
        "btc_health = get_onchain_network_health('BTC')\n",
        "health_data = json.loads(btc_health)\n",
        "\n",
        "print(\"📊 NETWORK HEALTH METRICS\")\n",
        "print(\"-\" * 30)\n",
        "\n",
        "# Core metrics\n",
        "print(f\"🏃‍♂️ Active Addresses: {health_data['active_addresses']:,}\")\n",
        "print(f\"⚡ Hash Rate: {health_data['hash_rate_EH']:.2f} EH/s\")\n",
        "print(f\"📨 Transaction Count: {health_data['transaction_count']:,}\")\n",
        "print(f\"💪 Difficulty: {health_data['difficulty']:,.0f}\")\n",
        "\n",
        "# Health assessment\n",
        "health_score = health_data['health_assessment']\n",
        "print(f\"\\\\n🎯 Overall Health: {health_score['health_score']}\")\n",
        "print(f\"📈 Trend: {health_score['trend']}\")\n",
        "\n",
        "# Key insights\n",
        "insights = health_score['key_insights']\n",
        "print(\"\\\\n💡 KEY INSIGHTS:\")\n",
        "for insight in insights:\n",
        "    print(f\"   • {insight}\")\n",
        "\n",
        "# Network security analysis\n",
        "security_metrics = {\n",
        "    'Hash Rate Growth': health_data.get('hash_rate_growth_30d', 'N/A'),\n",
        "    'Mining Difficulty': health_data['difficulty'],\n",
        "    'Network Security': 'Strong' if health_data['hash_rate_EH'] > 300 else 'Moderate'\n",
        "}\n",
        "\n",
        "print(f\"\\\\n🛡️  SECURITY STATUS: {security_metrics['Network Security']}\")\n",
        "print(f\"⚡ Current hash rate indicates {'excellent' if health_data['hash_rate_EH'] > 400 else 'good'} network security\")\n"
      ]
    }
  ],
  "metadata": {
    "language_info": {
      "name": "python"
    }
  },
  "nbformat": 4,
  "nbformat_minor": 2
}
