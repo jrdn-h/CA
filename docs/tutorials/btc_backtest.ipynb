{
  "cells": [
    {
      "cell_type": "code",
      "execution_count": null,
      "metadata": {
        "vscode": {
          "languageId": "plaintext"
        }
      },
      "outputs": [],
      "source": [
        "# Quick-start BTC Backtest Tutorial\n",
        "\n",
        "This tutorial demonstrates how to perform a Bitcoin backtesting analysis using TradingAgents' crypto infrastructure.\n",
        "\n",
        "## Overview\n",
        "\n",
        "You'll learn how to:\n",
        "- Fetch historical BTC data from multiple exchanges\n",
        "- Apply technical indicators for trading signals\n",
        "- Implement a simple trading strategy\n",
        "- Analyze performance with risk metrics\n",
        "\n",
        "## Prerequisites\n",
        "\n",
        "- TradingAgents installed with crypto dependencies\n",
        "- Optional: Redis for caching (recommended)\n"
      ]
    },
    {
      "cell_type": "code",
      "execution_count": null,
      "metadata": {},
      "outputs": [],
      "source": [
        "# Import required libraries\n",
        "import pandas as pd\n",
        "import numpy as np\n",
        "import matplotlib.pyplot as plt\n",
        "from datetime import datetime, timedelta\n",
        "\n",
        "# TradingAgents imports\n",
        "from tradingagents.dataflows.interface import (\n",
        "    get_exchange_ohlcv_data,\n",
        "    get_stockstats_indicator\n",
        ")\n",
        "from tradingagents.dataflows.crypto_cache import CryptoCacheManager\n",
        "\n",
        "print(\"✅ TradingAgents crypto infrastructure loaded successfully!\")\n"
      ]
    },
    {
      "cell_type": "code",
      "execution_count": null,
      "metadata": {},
      "outputs": [],
      "source": [
        "## Step 1: Initialize Caching and Fetch BTC Data\n",
        "\n",
        "First, let's set up Redis caching for optimal performance and fetch historical BTC data.\n"
      ]
    },
    {
      "cell_type": "code",
      "execution_count": null,
      "metadata": {},
      "outputs": [],
      "source": [
        "# Initialize cache manager\n",
        "cache = CryptoCacheManager()\n",
        "print(f\"Redis caching: {'✅ Enabled' if cache.is_redis_available() else '⚠️ Disabled (using direct API)'}\")\n",
        "\n",
        "# Fetch 100 days of hourly BTC data from Binance\n",
        "print(\"📊 Fetching BTC/USDT data from Binance...\")\n",
        "btc_data = get_exchange_ohlcv_data('binance', 'BTC/USDT', '1h', 2400)  # ~100 days\n",
        "\n",
        "print(f\"✅ Loaded {len(btc_data)} data points\")\n",
        "print(f\"📅 Date range: {btc_data.index[0]} to {btc_data.index[-1]}\")\n",
        "print(f\"💰 Latest BTC price: ${btc_data['close'].iloc[-1]:,.2f}\")\n",
        "\n",
        "# Display data preview\n",
        "btc_data.head()\n"
      ]
    }
  ],
  "metadata": {
    "language_info": {
      "name": "python"
    }
  },
  "nbformat": 4,
  "nbformat_minor": 2
}
