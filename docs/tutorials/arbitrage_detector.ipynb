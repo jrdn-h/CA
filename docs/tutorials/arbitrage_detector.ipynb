{
  "cells": [
    {
      "cell_type": "code",
      "execution_count": null,
      "metadata": {
        "vscode": {
          "languageId": "plaintext"
        }
      },
      "outputs": [],
      "source": [
        "# Cross-Exchange Arbitrage Detector\n",
        "\n",
        "This tutorial shows how to detect arbitrage opportunities across multiple cryptocurrency exchanges using TradingAgents' CCXT integration.\n",
        "\n",
        "## Overview\n",
        "\n",
        "You'll learn how to:\n",
        "- Connect to multiple crypto exchanges simultaneously\n",
        "- Compare real-time prices across exchanges  \n",
        "- Identify arbitrage opportunities with profit calculations\n",
        "- Account for trading fees and liquidity constraints\n",
        "- Set up automated monitoring alerts\n",
        "\n",
        "## Supported Exchanges\n",
        "\n",
        "- **Binance** - Low fees (0.1%), high liquidity\n",
        "- **Coinbase** - Higher fees (0.5%), good for USD pairs\n",
        "- **Kraken** - Moderate fees (0.26%), European focus\n",
        "- **OKX** - Low fees (0.1%), advanced features\n",
        "- **Huobi** - Moderate fees (0.2%), Asian markets\n"
      ]
    },
    {
      "cell_type": "code",
      "execution_count": null,
      "metadata": {},
      "outputs": [],
      "source": [
        "# Import required libraries\n",
        "import pandas as pd\n",
        "import numpy as np\n",
        "import json\n",
        "from datetime import datetime\n",
        "import time\n",
        "\n",
        "# TradingAgents imports\n",
        "from tradingagents.dataflows.interface import (\n",
        "    compare_crypto_exchanges,\n",
        "    get_exchange_order_book,\n",
        "    get_supported_crypto_exchanges\n",
        ")\n",
        "from tradingagents.dataflows.crypto_cache import CryptoCacheManager\n",
        "\n",
        "print(\"🚀 TradingAgents arbitrage detection system loaded!\")\n",
        "print(\"📊 Supported exchanges:\", get_supported_crypto_exchanges())\n"
      ]
    },
    {
      "cell_type": "code",
      "execution_count": null,
      "metadata": {},
      "outputs": [],
      "source": [
        "## Step 1: Cross-Exchange Price Comparison\n",
        "\n",
        "Let's start by comparing Bitcoin prices across all supported exchanges.\n"
      ]
    },
    {
      "cell_type": "code",
      "execution_count": null,
      "metadata": {},
      "outputs": [],
      "source": [
        "# Compare BTC prices across exchanges\n",
        "print(\"🔍 Analyzing BTC/USDT prices across exchanges...\")\n",
        "\n",
        "btc_comparison = compare_crypto_exchanges(\n",
        "    'BTC/USDT', \n",
        "    'binance,coinbase,kraken,okx,huobi'\n",
        ")\n",
        "\n",
        "# Parse the results\n",
        "comparison_data = json.loads(btc_comparison)\n",
        "print(\"📊 Current BTC Prices:\")\n",
        "print(\"=\" * 60)\n",
        "\n",
        "for exchange, data in comparison_data['exchange_data'].items():\n",
        "    price = data['price']\n",
        "    volume_24h = data.get('volume_24h', 0)\n",
        "    print(f\"{exchange.upper():>10}: ${price:>10,.2f} | 24h Vol: ${volume_24h:>12,.0f}\")\n",
        "\n",
        "# Check for arbitrage opportunities\n",
        "arbitrage_opps = comparison_data.get('arbitrage_opportunities', [])\n",
        "if arbitrage_opps:\n",
        "    print(\"\\\\n🎯 ARBITRAGE OPPORTUNITIES DETECTED!\")\n",
        "    print(\"=\" * 60)\n",
        "    for opp in arbitrage_opps:\n",
        "        print(f\"💰 Buy: {opp['buy_exchange']} @ ${opp['buy_price']:,.2f}\")\n",
        "        print(f\"💸 Sell: {opp['sell_exchange']} @ ${opp['sell_price']:,.2f}\")\n",
        "        print(f\"⚡ Profit: {opp['profit_percentage']:.3f}% (${opp['profit_amount']:,.2f})\")\n",
        "        print(\"-\" * 40)\n",
        "else:\n",
        "    print(\"\\\\n📈 No significant arbitrage opportunities at this time\")\n",
        "    print(\"(Threshold: >0.1% after fees)\")\n"
      ]
    }
  ],
  "metadata": {
    "language_info": {
      "name": "python"
    }
  },
  "nbformat": 4,
  "nbformat_minor": 2
}
